{
 "cells": [
  {
   "cell_type": "code",
   "execution_count": 2,
   "metadata": {},
   "outputs": [],
   "source": [
    "import numpy as np"
   ]
  },
  {
   "cell_type": "code",
   "execution_count": 28,
   "metadata": {},
   "outputs": [
    {
     "data": {
      "text/plain": [
       "dtype('int32')"
      ]
     },
     "execution_count": 28,
     "metadata": {},
     "output_type": "execute_result"
    }
   ],
   "source": [
    "# Array\n",
    "my_arr = [[1,2,3], [4,5,6],[7,8,9]]\n",
    "np.array(my_arr)\n",
    "\n",
    "# numpy arange\n",
    "np.arange(0,11,2)\n",
    "\n",
    "# np zeros\n",
    "np.zeros(3)\n",
    "np.zeros((5,3))\n",
    "np.ones(4)\n",
    "\n",
    "# numpy linspace\n",
    "np.linspace(0, 5, 10)\n",
    "np.eye(4) #identity matrix\n",
    "\n",
    "# np random (many method, rand is most common)\n",
    "np.random.rand(5)\n",
    "np.random.rand(5,5)\n",
    "np.random.randn(2)\n",
    "\n",
    "# randint\n",
    "np.random.randint(1,100, 10) # 1 inclusive, 100 is exclusive\n",
    "\n",
    "# reshape\n",
    "arr = np.arange(25)\n",
    "arr.reshape(5,5)\n",
    "\n",
    "# max min\n",
    "arr.max()\n",
    "arr.min()\n",
    "arr.argmax() #arr.argmin() return index location\n",
    "\n",
    "#shape\n",
    "arr.shape\n",
    "arr.dtype #data type"
   ]
  },
  {
   "cell_type": "markdown",
   "metadata": {},
   "source": [
    "Numpy Indexing and Selection"
   ]
  },
  {
   "cell_type": "code",
   "execution_count": 8,
   "metadata": {},
   "outputs": [
    {
     "data": {
      "text/plain": [
       "array([100, 100,   4,   2,   4])"
      ]
     },
     "execution_count": 8,
     "metadata": {},
     "output_type": "execute_result"
    }
   ],
   "source": [
    "arr = np.random.randint(0,5,5)\n",
    "arr[:2] = 100\n",
    "arr\n",
    "slice_of_arr = arr[:3] # just reference, not copy\n",
    "# copy\n",
    "cp_arr = arr.copy()"
   ]
  }
 ],
 "metadata": {
  "kernelspec": {
   "display_name": ".venv",
   "language": "python",
   "name": "python3"
  },
  "language_info": {
   "codemirror_mode": {
    "name": "ipython",
    "version": 3
   },
   "file_extension": ".py",
   "mimetype": "text/x-python",
   "name": "python",
   "nbconvert_exporter": "python",
   "pygments_lexer": "ipython3",
   "version": "3.11.5"
  }
 },
 "nbformat": 4,
 "nbformat_minor": 2
}
